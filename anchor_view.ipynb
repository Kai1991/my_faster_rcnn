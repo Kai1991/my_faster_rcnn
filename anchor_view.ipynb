{
 "cells": [
  {
   "cell_type": "code",
   "execution_count": 11,
   "metadata": {},
   "outputs": [],
   "source": [
    "import numpy as np\n",
    "import matplotlib.pyplot as plt\n",
    "import matplotlib.patches as patches"
   ]
  },
  {
   "cell_type": "code",
   "execution_count": 2,
   "metadata": {},
   "outputs": [],
   "source": [
    "def gen_anchor(feature_size,rpn_stride,ratios,scales,anchor_stride):\n",
    "    # featureMap_size=[8,8] 特征图大小\n",
    "    # ratios=[0.5, 1, 2]    宽高比\n",
    "    # scales=[4, 8, 16]     anchor的面积  \n",
    "    # rpn_stride=1          rpn的步长\n",
    "    # anchor_stride=1       anchor的步长  \n",
    "    \n",
    "    #获取 anchor的大小（宽和高）\n",
    "    ratios,scales = np.meshgrid(ratios,scales)\n",
    "    ratios,scales = ratios.flatten(),scales.flatten()\n",
    "    \n",
    "    weights = scales / np.sqrt(ratios)\n",
    "    heights = scales * np.sqrt(ratios)\n",
    "    \n",
    "    #获取anchor的中心点坐标\n",
    "    shift_x = np.arange(0,feature_size[0],anchor_stride) * rpn_stride\n",
    "    shift_y = np.arange(0,feature_size[1],anchor_stride) * rpn_stride\n",
    "    center_x,center_y = np.meshgrid(shift_x,shift_y)\n",
    "    \n",
    "    #每个中心点对应n（9）个anchor\n",
    "    center_x,anchors_x = np.meshgrid(center_x,weights)\n",
    "    center_y,anchors_y = np.meshgrid(center_y,heights)\n",
    "    \n",
    "    boxCenter = np.stack([center_x,center_y],axis=2).reshape(-1,2)\n",
    "    boxSize = np.stack([anchors_x,anchors_y],axis=2).reshape(-1,2)\n",
    "    \n",
    "    #最终的box\n",
    "    box = np.concatenate([boxCenter - 0.5*boxSize,boxCenter + 0.5*boxSize],axis=1)\n",
    "    \n",
    "    return box"
   ]
  },
  {
   "cell_type": "code",
   "execution_count": 41,
   "metadata": {},
   "outputs": [],
   "source": [
    "feature_size=[8,8]\n",
    "rpn_stride = 4\n",
    "ratios=[0.5,1,2]\n",
    "scales= [0.5, 1, 2]\n",
    "anchor_stride=1\n",
    "\n",
    "boxes = gen_anchor(feature_size,rpn_stride,ratios,scales,anchor_stride)"
   ]
  },
  {
   "cell_type": "code",
   "execution_count": 42,
   "metadata": {},
   "outputs": [
    {
     "data": {
      "text/plain": [
       "(576, 4)"
      ]
     },
     "execution_count": 42,
     "metadata": {},
     "output_type": "execute_result"
    }
   ],
   "source": [
    "boxes.shape"
   ]
  },
  {
   "cell_type": "code",
   "execution_count": 43,
   "metadata": {},
   "outputs": [],
   "source": [
    "img = np.ones([32,32,3])"
   ]
  },
  {
   "cell_type": "code",
   "execution_count": 44,
   "metadata": {},
   "outputs": [
    {
     "data": {
      "text/plain": [
       "<matplotlib.image.AxesImage at 0x117176278>"
      ]
     },
     "execution_count": 44,
     "metadata": {},
     "output_type": "execute_result"
    },
    {
     "data": {
      "image/png": "[encoded data removed]",
      "text/plain": [
       "<Figure size 720x720 with 1 Axes>"
      ]
     },
     "metadata": {
      "needs_background": "light"
     },
     "output_type": "display_data"
    }
   ],
   "source": [
    "plt.figure(figsize=(10,10))\n",
    "\n",
    "currentAxis=plt.gca()\n",
    "for i in range(boxes.shape[0]):\n",
    "    box = boxes[i]\n",
    "    rect=patches.Rectangle((box[0],box[1]),box[2]-box[0],box[3]-box[1],edgecolor='r',facecolor='none')\n",
    "    currentAxis.add_patch(rect)\n",
    "\n",
    "plt.imshow(img)"
   ]
  },
  {
   "cell_type": "code",
   "execution_count": null,
   "metadata": {},
   "outputs": [],
   "source": []
  }
 ],
 "metadata": {
  "kernelspec": {
   "display_name": "Python 3",
   "language": "python",
   "name": "python3"
  },
  "language_info": {
   "codemirror_mode": {
    "name": "ipython",
    "version": 3
   },
   "file_extension": ".py",
   "mimetype": "text/x-python",
   "name": "python",
   "nbconvert_exporter": "python",
   "pygments_lexer": "ipython3",
   "version": "3.6.8"
  }
 },
 "nbformat": 4,
 "nbformat_minor": 2
}
