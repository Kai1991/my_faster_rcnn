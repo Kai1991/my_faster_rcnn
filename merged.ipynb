{
 "cells": [
  {
   "cell_type": "code",
   "execution_count": null,
   "metadata": {},
   "outputs": [],
   "source": [
    "import keras.layers as KL\n",
    "from keras.models import Model\n",
    "import keras.backend as K\n",
    "import tensorflow as tf\n",
    "import numpy as np\n",
    "from model import FasterRcnn\n",
    "\n",
    "import detection_target_fixed\n",
    "import keras"
   ]
  },
  {
   "cell_type": "code",
   "execution_count": null,
   "metadata": {},
   "outputs": [],
   "source": [
    "from utils import shapeData as dataSet\n",
    "from config import Config\n",
    "\n",
    "config = Config()\n",
    "dataset = dataSet([64,64], config=config)"
   ]
  },
  {
   "cell_type": "code",
   "execution_count": null,
   "metadata": {},
   "outputs": [],
   "source": [
    "model = FasterRcnn('inference','all',config)"
   ]
  },
  {
   "cell_type": "code",
   "execution_count": null,
   "metadata": {},
   "outputs": [],
   "source": [
    "model.loadWeights(\"model_weights_all.h5\")"
   ]
  },
  {
   "cell_type": "code",
   "execution_count": null,
   "metadata": {},
   "outputs": [],
   "source": [
    "def data_Gen(dataset, num_batch, batch_size, config):\n",
    "    for _ in range(num_batch):\n",
    "        images = []\n",
    "        bboxes = []\n",
    "        class_ids = []\n",
    "        rpn_matchs = []\n",
    "        rpn_bboxes = []\n",
    "        active_ids = []\n",
    "        for i in range(batch_size):\n",
    "            image, bbox, class_id, active_id, rpn_match, rpn_bbox, _ = data = dataset.load_data()\n",
    "            pad_num = config.max_gt_obj - bbox.shape[0]\n",
    "            pad_box = np.zeros((pad_num, 4))\n",
    "            pad_ids = np.zeros((pad_num, 1))\n",
    "            bbox = np.concatenate([bbox, pad_box], axis=0)\n",
    "            class_id = np.concatenate([class_id, pad_ids], axis=0)\n",
    "        \n",
    "            images.append(image)\n",
    "            bboxes.append(bbox)\n",
    "            class_ids.append(class_id)\n",
    "            rpn_matchs.append(rpn_match)\n",
    "            rpn_bboxes.append(rpn_bbox)\n",
    "            active_ids.append(active_id)\n",
    "        images = np.concatenate(images, 0).reshape(batch_size, config.image_size[0],config.image_size[1] , 3)\n",
    "        bboxes = np.concatenate(bboxes, 0).reshape(batch_size, -1 , 4)\n",
    "        class_ids = np.concatenate(class_ids, 0).reshape(batch_size, -1 )\n",
    "        active_ids = np.concatenate(active_ids, 0).reshape(batch_size, -1 )\n",
    "        rpn_matchs = np.concatenate(rpn_matchs, 0).reshape(batch_size, -1 , 1)\n",
    "        rpn_bboxes = np.concatenate(rpn_bboxes, 0).reshape(batch_size, -1 , 4)\n",
    "        rpn_bboxes = np.concatenate(rpn_bboxes, 0).reshape(batch_size, -1 , 4)\n",
    "        yield [images, bboxes, class_ids, active_ids, rpn_matchs, rpn_bboxes],[]"
   ]
  },
  {
   "cell_type": "code",
   "execution_count": null,
   "metadata": {},
   "outputs": [],
   "source": [
    "dataGen = data_Gen(dataset, 35000, 20, config)"
   ]
  },
  {
   "cell_type": "code",
   "execution_count": null,
   "metadata": {},
   "outputs": [],
   "source": [
    "test_data = next(dataGen)"
   ]
  },
  {
   "cell_type": "code",
   "execution_count": null,
   "metadata": {},
   "outputs": [],
   "source": [
    "out = model.inference(test_data[0][0])"
   ]
  },
  {
   "cell_type": "code",
   "execution_count": null,
   "metadata": {},
   "outputs": [],
   "source": [
    "out"
   ]
  },
  {
   "cell_type": "code",
   "execution_count": null,
   "metadata": {},
   "outputs": [],
   "source": [
    "import matplotlib.pyplot as plt\n",
    "import matplotlib.patches as patches\n",
    "import random\n",
    "%matplotlib inline\n",
    "\n",
    "ix = random.sample(range(20), 1)[0]\n",
    "\n",
    "image = test_data[0][0][ix]\n",
    "\n",
    "boxes_result = out[ix][:,:4] * 64\n",
    "id_result = out[ix][:,4]\n",
    "\n",
    "plt.imshow(image)\n",
    "Axs = plt.gca()\n",
    "\n",
    "pos_idxs = np.where(id_result > 0)[0]\n",
    "\n",
    "for i in range(pos_idxs.shape[0]):\n",
    "    id_ = pos_idxs[i]\n",
    "    box = boxes_result[id_]\n",
    "    rec = patches.Rectangle((box[0], box[1]), box[2]-box[0], box[3]-box[1], \n",
    "                           edgecolor=\"r\", facecolor=\"none\")\n",
    "    Axs.add_patch(rec)"
   ]
  },
  {
   "cell_type": "code",
   "execution_count": null,
   "metadata": {},
   "outputs": [],
   "source": [
    "np.where(pos_idxs)[0]"
   ]
  },
  {
   "cell_type": "code",
   "execution_count": null,
   "metadata": {},
   "outputs": [],
   "source": [
    "#rpn_class, rpn_prob, rpn_bbox, proposals, mrcnn_class_logits, mrcnn_class, mrcnn_bbox\n",
    "\n",
    "proposals_model = out[3]\n",
    "probs = out[5]\n",
    "deltas_infe = out[-1]\n",
    "\n",
    "print(proposals_model.shape)\n",
    "print(probs.shape)\n",
    "print(deltas_infe.shape)"
   ]
  },
  {
   "cell_type": "code",
   "execution_count": null,
   "metadata": {},
   "outputs": [],
   "source": [
    "import random\n",
    "\n",
    "sess = tf.Session()\n",
    "\n",
    "ix = random.sample(range(20), 1)[0]\n",
    "images = test_data[0][0]\n",
    "image_ = images[ix]\n",
    "rois_ = proposals_model[ix]\n",
    "probs_ = probs[ix]\n",
    "deltas = deltas_infe[ix]\n",
    "\n",
    "\n",
    "def refine_detections(rois, probs, deltas):\n",
    "    argMax_probs = tf.argmax(probs, axis=1)\n",
    "    max_probs = tf.reduce_max(probs, axis=1)\n",
    "    print(\"max_probs\",sess.run(max_probs))\n",
    "    keep_idxs = tf.where(max_probs > 0.9)[:,0]\n",
    "    print(\"keep_idxs\",sess.run(keep_idxs))\n",
    "    idx_y = tf.cast(np.arange(16), tf.int32)\n",
    "    idx_x = tf.cast(argMax_probs, tf.int32)\n",
    "    idxs = tf.stack([idx_y, idx_x],axis=1)\n",
    "    deltas_keep = tf.gather_nd(deltas, idxs)\n",
    "    refined_rois = anchor_refinement(tf.cast(rois, tf.float32),\n",
    "                                 tf.cast(deltas_keep * config.RPN_BBOX_STD_DEV, tf.float32))\n",
    "    rois_ready = tf.gather(refined_rois, keep_idxs)\n",
    "    class_ids = tf.gather(argMax_probs, keep_idxs)\n",
    "    class_ids = tf.to_float(class_ids)[..., tf.newaxis]\n",
    "    detections = tf.concat([rois_ready, class_ids], axis=1)\n",
    "    gap = tf.maximum(8 - tf.shape(detections)[0],0)\n",
    "    detections = tf.pad(detections, [(0, gap), (0, 0)], \"CONSTANT\")\n",
    "    return detections\n",
    "\n",
    "detections_ = refine_detections(rois_, probs_, deltas)"
   ]
  },
  {
   "cell_type": "code",
   "execution_count": null,
   "metadata": {},
   "outputs": [],
   "source": [
    "max_probs = tf.reduce_max(probs_, axis=1)\n",
    "keep_idxs = tf.where(max_probs > 0.1)[:,0]\n",
    "print(sess.run(max_probs))\n",
    "sess.run(keep_idxs)"
   ]
  },
  {
   "cell_type": "code",
   "execution_count": null,
   "metadata": {},
   "outputs": [],
   "source": [
    "sess.run(detections_)"
   ]
  },
  {
   "cell_type": "code",
   "execution_count": null,
   "metadata": {},
   "outputs": [],
   "source": [
    "proposal_ = proposals_model[ix] *64\n",
    "image_ = images[ix]\n",
    "probs_ = probs[ix]"
   ]
  },
  {
   "cell_type": "code",
   "execution_count": null,
   "metadata": {},
   "outputs": [],
   "source": [
    "probs_.shape"
   ]
  },
  {
   "cell_type": "code",
   "execution_count": null,
   "metadata": {},
   "outputs": [],
   "source": [
    "import matplotlib.pyplot as plt\n",
    "import matplotlib.patches as patches\n",
    "%matplotlib inline\n",
    "\n",
    "print(np.argmax(probs_, axis=1))\n",
    "\n",
    "plt.imshow(image_)\n",
    "Axs = plt.gca()\n",
    "\n",
    "for i in range(proposal_.shape[0]):\n",
    "    box = proposal_[i]\n",
    "    rec = patches.Rectangle((box[0], box[1]), box[2]-box[0], box[3]-box[1], \n",
    "                           edgecolor=\"r\", facecolor=\"none\")\n",
    "    Axs.add_patch(rec)"
   ]
  },
  {
   "cell_type": "code",
   "execution_count": null,
   "metadata": {},
   "outputs": [],
   "source": [
    "sess = tf.Session()\n",
    "sess.run(tf.global_variables_initializer())"
   ]
  },
  {
   "cell_type": "code",
   "execution_count": null,
   "metadata": {},
   "outputs": [],
   "source": [
    "def anchor_refinement(boxes, deltas):\n",
    "    boxes = tf.cast(boxes, tf.float32)\n",
    "    h = boxes[:, 2] - boxes[:, 0]\n",
    "    w = boxes[:, 3] - boxes[:, 1]\n",
    "    center_y = boxes[:, 0] + h / 2\n",
    "    center_x = boxes[:, 1] + w / 2\n",
    "\n",
    "    center_y += deltas[:, 0] * h\n",
    "    center_x += deltas[:, 1] * w\n",
    "    h *= tf.exp(deltas[:, 2])\n",
    "    w *= tf.exp(deltas[:, 3])\n",
    "    \n",
    "    y1 = center_y - h / 2\n",
    "    x1 = center_x - w / 2\n",
    "    y2 = center_y + h / 2\n",
    "    x2 = center_x + w / 2\n",
    "    boxes = tf.stack([y1, x1, y2, x2], axis=1)\n",
    "    return boxes"
   ]
  },
  {
   "cell_type": "code",
   "execution_count": null,
   "metadata": {},
   "outputs": [],
   "source": [
    "deltas_infe = out[-1][ix]\n",
    "deltas_infe.shape"
   ]
  },
  {
   "cell_type": "code",
   "execution_count": null,
   "metadata": {},
   "outputs": [],
   "source": [
    "out[-1].shape"
   ]
  },
  {
   "cell_type": "code",
   "execution_count": null,
   "metadata": {},
   "outputs": [],
   "source": [
    "ixs = np.argmax(probs_, axis=1)\n",
    "\n",
    "deltas = deltas_infe[np.arange(16), ixs, :]"
   ]
  },
  {
   "cell_type": "code",
   "execution_count": null,
   "metadata": {},
   "outputs": [],
   "source": [
    "refined_rois = anchor_refinement(tf.cast(proposal_ / 64, tf.float32),\n",
    "                                 tf.cast(deltas * config.RPN_BBOX_STD_DEV, tf.float32))"
   ]
  },
  {
   "cell_type": "code",
   "execution_count": null,
   "metadata": {},
   "outputs": [],
   "source": [
    "refined_rois_ = sess.run(refined_rois) * 64"
   ]
  },
  {
   "cell_type": "code",
   "execution_count": null,
   "metadata": {},
   "outputs": [],
   "source": [
    "positive_ixs = np.where(ixs > 0.4)[0]\n",
    "\n",
    "positive_ixs"
   ]
  },
  {
   "cell_type": "code",
   "execution_count": null,
   "metadata": {},
   "outputs": [],
   "source": [
    "plt.imshow(image_)\n",
    "Axs = plt.gca()\n",
    "\n",
    "for i in range(positive_ixs.shape[0]):\n",
    "    box = refined_rois_[positive_ixs[i]]\n",
    "    rec = patches.Rectangle((box[0], box[1]), box[2]-box[0], box[3]-box[1], \n",
    "                           edgecolor=\"b\", facecolor=\"none\")\n",
    "    Axs.add_patch(rec)"
   ]
  },
  {
   "cell_type": "code",
   "execution_count": null,
   "metadata": {},
   "outputs": [],
   "source": []
  },
  {
   "cell_type": "code",
   "execution_count": null,
   "metadata": {},
   "outputs": [],
   "source": []
  },
  {
   "cell_type": "code",
   "execution_count": null,
   "metadata": {},
   "outputs": [],
   "source": []
  }
 ],
 "metadata": {
  "anaconda-cloud": {},
  "kernelspec": {
   "display_name": "Python 3",
   "language": "python",
   "name": "python3"
  },
  "language_info": {
   "codemirror_mode": {
    "name": "ipython",
    "version": 3
   },
   "file_extension": ".py",
   "mimetype": "text/x-python",
   "name": "python",
   "nbconvert_exporter": "python",
   "pygments_lexer": "ipython3",
   "version": "3.6.8"
  }
 },
 "nbformat": 4,
 "nbformat_minor": 1
}
